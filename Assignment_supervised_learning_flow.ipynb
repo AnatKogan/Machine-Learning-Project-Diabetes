{
 "cells": [
  {
   "cell_type": "markdown",
   "metadata": {},
   "source": [
    "# Assignment - Supervised Learning flow"
   ]
  },
  {
   "cell_type": "markdown",
   "metadata": {},
   "source": [
    "# Part 1(a) Student details:\n",
    "* Please write the First-Name, First letter of Last-Name and last 4 digits of the i.d. for each student. "
   ]
  },
  {
   "cell_type": "code",
   "execution_count": 1,
   "metadata": {
    "ExecuteTime": {
     "end_time": "2025-09-08T17:03:15.717029Z",
     "start_time": "2025-09-08T17:03:15.708586Z"
    }
   },
   "outputs": [],
   "source": [
    "#  student details 1: Daniela S. 9461\n",
    "#  student details 2: Anat K. 1126\n",
    "#  student details 3: Orian A. 7781\n"
   ]
  },
  {
   "cell_type": "markdown",
   "metadata": {},
   "source": [
    "## Part 1(b) - Chat-GPT/other AI-agent/other assistance used:\n",
    "* If you changed the prompt until you got a satisfying answer, please add all versions\n",
    "* don't delete \"pre\" tags, so new-line is supported\n",
    "* double click the following markdown cell to change\n",
    "* press shift+enter to view\n",
    "* Add information:"
   ]
  },
  {
   "cell_type": "markdown",
   "metadata": {},
   "source": [
    "#### Add information in this Markdown cell (double click to change, shift-enter to view)\n",
    "<pre>   \n",
    "AI agent name: \n",
    "Goal:\n",
    "Propmpt1:\n",
    "    \n",
    "Propmpt2:\n",
    "    \n",
    "Propmpt3: \n",
    "\n",
    "</pre>"
   ]
  },
  {
   "cell_type": "markdown",
   "metadata": {},
   "source": [
    "## Part 1(c) - Learning Problem and dataset explaination.\n",
    "* Please explain in one paragraph\n",
    "* don't delete \"pre\" tags, so new-line is supported\n",
    "* double click the following markdown cell to change\n",
    "* press shift+enter to view\n",
    "* Add explaining text:"
   ]
  },
  {
   "cell_type": "markdown",
   "metadata": {},
   "source": [
    "#### Add information in this Markdown cell (double click to change, shift-enter to view)\n",
    "<pre>\n",
    "In the dataset, each patient is described by 10 attributes: age, sex, BMI, average blood pressure, total cholesterol, LDL, HDL, TCH, LTG, and glucose levels.\n",
    "\n",
    "Our task is to predict a numerical value that indicates the progression of the disease after\n",
    "one year, reflecting how much the diabetes has worsened or changed based on these\n",
    "attributes.\n",
    "\n",
    "</pre>"
   ]
  },
  {
   "cell_type": "markdown",
   "metadata": {},
   "source": [
    "## Part 2 - Initial Preparations \n",
    "You could add as many code cells as needed"
   ]
  },
  {
   "cell_type": "code",
   "execution_count": 2,
   "metadata": {
    "ExecuteTime": {
     "end_time": "2025-09-08T17:03:15.760171Z",
     "start_time": "2025-09-08T17:03:15.752764Z"
    }
   },
   "outputs": [],
   "source": [
    "import pandas as pd\n",
    "import numpy as np\n",
    "from sklearn.model_selection import train_test_split\n",
    "from sklearn.preprocessing import StandardScaler, MinMaxScaler\n",
    "from sklearn.linear_model import LinearRegression, Ridge, Lasso\n",
    "from sklearn.metrics import mean_squared_error, r2_score, mean_absolute_error\n",
    "from sklearn.model_selection import cross_val_score\n",
    "from sklearn.feature_selection import SelectKBest, f_regression\n",
    "import matplotlib.pyplot as plt\n",
    "import seaborn as sns"
   ]
  },
  {
   "cell_type": "code",
   "execution_count": 3,
   "metadata": {
    "ExecuteTime": {
     "end_time": "2025-09-08T17:03:15.846212Z",
     "start_time": "2025-09-08T17:03:15.792349Z"
    }
   },
   "outputs": [],
   "source": [
    "train_df = pd.read_csv(\"diabetes_train.csv\")\n",
    "test_df = pd.read_csv(\"diabetes_test.csv\")"
   ]
  },
  {
   "cell_type": "code",
   "execution_count": 4,
   "metadata": {
    "ExecuteTime": {
     "end_time": "2025-09-08T17:03:15.895874Z",
     "start_time": "2025-09-08T17:03:15.858548Z"
    }
   },
   "outputs": [
    {
     "name": "stdout",
     "output_type": "stream",
     "text": [
      "Train set - first 5 rows:\n"
     ]
    },
    {
     "data": {
      "text/html": [
       "<div>\n",
       "<style scoped>\n",
       "    .dataframe tbody tr th:only-of-type {\n",
       "        vertical-align: middle;\n",
       "    }\n",
       "\n",
       "    .dataframe tbody tr th {\n",
       "        vertical-align: top;\n",
       "    }\n",
       "\n",
       "    .dataframe thead th {\n",
       "        text-align: right;\n",
       "    }\n",
       "</style>\n",
       "<table border=\"1\" class=\"dataframe\">\n",
       "  <thead>\n",
       "    <tr style=\"text-align: right;\">\n",
       "      <th></th>\n",
       "      <th>age</th>\n",
       "      <th>sex</th>\n",
       "      <th>bmi</th>\n",
       "      <th>bp</th>\n",
       "      <th>s1</th>\n",
       "      <th>s2</th>\n",
       "      <th>s3</th>\n",
       "      <th>s4</th>\n",
       "      <th>s5</th>\n",
       "      <th>s6</th>\n",
       "      <th>target</th>\n",
       "    </tr>\n",
       "  </thead>\n",
       "  <tbody>\n",
       "    <tr>\n",
       "      <th>0</th>\n",
       "      <td>52.0</td>\n",
       "      <td>1.0</td>\n",
       "      <td>23.0</td>\n",
       "      <td>107.00</td>\n",
       "      <td>179.0</td>\n",
       "      <td>123.7</td>\n",
       "      <td>42.5</td>\n",
       "      <td>4.21</td>\n",
       "      <td>4.1589</td>\n",
       "      <td>93.0</td>\n",
       "      <td>50.0</td>\n",
       "    </tr>\n",
       "    <tr>\n",
       "      <th>1</th>\n",
       "      <td>22.0</td>\n",
       "      <td>1.0</td>\n",
       "      <td>18.6</td>\n",
       "      <td>97.00</td>\n",
       "      <td>114.0</td>\n",
       "      <td>57.6</td>\n",
       "      <td>46.0</td>\n",
       "      <td>2.00</td>\n",
       "      <td>3.9512</td>\n",
       "      <td>83.0</td>\n",
       "      <td>101.0</td>\n",
       "    </tr>\n",
       "    <tr>\n",
       "      <th>2</th>\n",
       "      <td>34.0</td>\n",
       "      <td>2.0</td>\n",
       "      <td>25.3</td>\n",
       "      <td>111.00</td>\n",
       "      <td>230.0</td>\n",
       "      <td>162.0</td>\n",
       "      <td>39.0</td>\n",
       "      <td>6.00</td>\n",
       "      <td>4.9767</td>\n",
       "      <td>90.0</td>\n",
       "      <td>181.0</td>\n",
       "    </tr>\n",
       "    <tr>\n",
       "      <th>3</th>\n",
       "      <td>38.0</td>\n",
       "      <td>2.0</td>\n",
       "      <td>26.8</td>\n",
       "      <td>105.00</td>\n",
       "      <td>181.0</td>\n",
       "      <td>119.2</td>\n",
       "      <td>37.0</td>\n",
       "      <td>5.00</td>\n",
       "      <td>4.8203</td>\n",
       "      <td>91.0</td>\n",
       "      <td>107.0</td>\n",
       "    </tr>\n",
       "    <tr>\n",
       "      <th>4</th>\n",
       "      <td>55.0</td>\n",
       "      <td>1.0</td>\n",
       "      <td>23.0</td>\n",
       "      <td>94.67</td>\n",
       "      <td>190.0</td>\n",
       "      <td>137.6</td>\n",
       "      <td>38.0</td>\n",
       "      <td>5.00</td>\n",
       "      <td>4.2767</td>\n",
       "      <td>106.0</td>\n",
       "      <td>146.0</td>\n",
       "    </tr>\n",
       "  </tbody>\n",
       "</table>\n",
       "</div>"
      ],
      "text/plain": [
       "    age  sex   bmi      bp     s1     s2    s3    s4      s5     s6  target\n",
       "0  52.0  1.0  23.0  107.00  179.0  123.7  42.5  4.21  4.1589   93.0    50.0\n",
       "1  22.0  1.0  18.6   97.00  114.0   57.6  46.0  2.00  3.9512   83.0   101.0\n",
       "2  34.0  2.0  25.3  111.00  230.0  162.0  39.0  6.00  4.9767   90.0   181.0\n",
       "3  38.0  2.0  26.8  105.00  181.0  119.2  37.0  5.00  4.8203   91.0   107.0\n",
       "4  55.0  1.0  23.0   94.67  190.0  137.6  38.0  5.00  4.2767  106.0   146.0"
      ]
     },
     "metadata": {},
     "output_type": "display_data"
    },
    {
     "name": "stdout",
     "output_type": "stream",
     "text": [
      "Test set - first 5 rows:\n"
     ]
    },
    {
     "data": {
      "text/html": [
       "<div>\n",
       "<style scoped>\n",
       "    .dataframe tbody tr th:only-of-type {\n",
       "        vertical-align: middle;\n",
       "    }\n",
       "\n",
       "    .dataframe tbody tr th {\n",
       "        vertical-align: top;\n",
       "    }\n",
       "\n",
       "    .dataframe thead th {\n",
       "        text-align: right;\n",
       "    }\n",
       "</style>\n",
       "<table border=\"1\" class=\"dataframe\">\n",
       "  <thead>\n",
       "    <tr style=\"text-align: right;\">\n",
       "      <th></th>\n",
       "      <th>age</th>\n",
       "      <th>sex</th>\n",
       "      <th>bmi</th>\n",
       "      <th>bp</th>\n",
       "      <th>s1</th>\n",
       "      <th>s2</th>\n",
       "      <th>s3</th>\n",
       "      <th>s4</th>\n",
       "      <th>s5</th>\n",
       "      <th>s6</th>\n",
       "      <th>target</th>\n",
       "    </tr>\n",
       "  </thead>\n",
       "  <tbody>\n",
       "    <tr>\n",
       "      <th>0</th>\n",
       "      <td>60.0</td>\n",
       "      <td>2.0</td>\n",
       "      <td>28.2</td>\n",
       "      <td>112.0</td>\n",
       "      <td>185.0</td>\n",
       "      <td>113.8</td>\n",
       "      <td>42.0</td>\n",
       "      <td>4.0</td>\n",
       "      <td>4.9836</td>\n",
       "      <td>93.0</td>\n",
       "      <td>178.0</td>\n",
       "    </tr>\n",
       "    <tr>\n",
       "      <th>1</th>\n",
       "      <td>55.0</td>\n",
       "      <td>2.0</td>\n",
       "      <td>22.9</td>\n",
       "      <td>81.0</td>\n",
       "      <td>123.0</td>\n",
       "      <td>67.2</td>\n",
       "      <td>41.0</td>\n",
       "      <td>3.0</td>\n",
       "      <td>4.3041</td>\n",
       "      <td>88.0</td>\n",
       "      <td>129.0</td>\n",
       "    </tr>\n",
       "    <tr>\n",
       "      <th>2</th>\n",
       "      <td>46.0</td>\n",
       "      <td>1.0</td>\n",
       "      <td>20.6</td>\n",
       "      <td>73.0</td>\n",
       "      <td>172.0</td>\n",
       "      <td>107.0</td>\n",
       "      <td>51.0</td>\n",
       "      <td>3.0</td>\n",
       "      <td>4.2485</td>\n",
       "      <td>80.0</td>\n",
       "      <td>53.0</td>\n",
       "    </tr>\n",
       "    <tr>\n",
       "      <th>3</th>\n",
       "      <td>58.0</td>\n",
       "      <td>1.0</td>\n",
       "      <td>22.8</td>\n",
       "      <td>91.0</td>\n",
       "      <td>196.0</td>\n",
       "      <td>118.8</td>\n",
       "      <td>48.0</td>\n",
       "      <td>4.0</td>\n",
       "      <td>4.9836</td>\n",
       "      <td>115.0</td>\n",
       "      <td>206.0</td>\n",
       "    </tr>\n",
       "    <tr>\n",
       "      <th>4</th>\n",
       "      <td>36.0</td>\n",
       "      <td>2.0</td>\n",
       "      <td>24.1</td>\n",
       "      <td>112.0</td>\n",
       "      <td>193.0</td>\n",
       "      <td>125.0</td>\n",
       "      <td>35.0</td>\n",
       "      <td>6.0</td>\n",
       "      <td>5.1059</td>\n",
       "      <td>95.0</td>\n",
       "      <td>163.0</td>\n",
       "    </tr>\n",
       "  </tbody>\n",
       "</table>\n",
       "</div>"
      ],
      "text/plain": [
       "    age  sex   bmi     bp     s1     s2    s3   s4      s5     s6  target\n",
       "0  60.0  2.0  28.2  112.0  185.0  113.8  42.0  4.0  4.9836   93.0   178.0\n",
       "1  55.0  2.0  22.9   81.0  123.0   67.2  41.0  3.0  4.3041   88.0   129.0\n",
       "2  46.0  1.0  20.6   73.0  172.0  107.0  51.0  3.0  4.2485   80.0    53.0\n",
       "3  58.0  1.0  22.8   91.0  196.0  118.8  48.0  4.0  4.9836  115.0   206.0\n",
       "4  36.0  2.0  24.1  112.0  193.0  125.0  35.0  6.0  5.1059   95.0   163.0"
      ]
     },
     "metadata": {},
     "output_type": "display_data"
    }
   ],
   "source": [
    "print(\"Train set - first 5 rows:\")\n",
    "display(train_df.head())\n",
    "print(\"Test set - first 5 rows:\")\n",
    "display(test_df.head())"
   ]
  },
  {
   "cell_type": "code",
   "execution_count": 5,
   "metadata": {
    "ExecuteTime": {
     "end_time": "2025-09-08T17:03:16.027186Z",
     "start_time": "2025-09-08T17:03:15.973837Z"
    }
   },
   "outputs": [
    {
     "name": "stdout",
     "output_type": "stream",
     "text": [
      "Statistics for each variable:\n"
     ]
    },
    {
     "data": {
      "text/html": [
       "<div>\n",
       "<style scoped>\n",
       "    .dataframe tbody tr th:only-of-type {\n",
       "        vertical-align: middle;\n",
       "    }\n",
       "\n",
       "    .dataframe tbody tr th {\n",
       "        vertical-align: top;\n",
       "    }\n",
       "\n",
       "    .dataframe thead th {\n",
       "        text-align: right;\n",
       "    }\n",
       "</style>\n",
       "<table border=\"1\" class=\"dataframe\">\n",
       "  <thead>\n",
       "    <tr style=\"text-align: right;\">\n",
       "      <th></th>\n",
       "      <th>age</th>\n",
       "      <th>sex</th>\n",
       "      <th>bmi</th>\n",
       "      <th>bp</th>\n",
       "      <th>s1</th>\n",
       "      <th>s2</th>\n",
       "      <th>s3</th>\n",
       "      <th>s4</th>\n",
       "      <th>s5</th>\n",
       "      <th>s6</th>\n",
       "      <th>target</th>\n",
       "    </tr>\n",
       "  </thead>\n",
       "  <tbody>\n",
       "    <tr>\n",
       "      <th>count</th>\n",
       "      <td>353.000000</td>\n",
       "      <td>353.000000</td>\n",
       "      <td>353.000000</td>\n",
       "      <td>353.000000</td>\n",
       "      <td>353.000000</td>\n",
       "      <td>353.000000</td>\n",
       "      <td>353.000000</td>\n",
       "      <td>353.000000</td>\n",
       "      <td>353.000000</td>\n",
       "      <td>353.000000</td>\n",
       "      <td>353.000000</td>\n",
       "    </tr>\n",
       "    <tr>\n",
       "      <th>mean</th>\n",
       "      <td>48.433428</td>\n",
       "      <td>1.461756</td>\n",
       "      <td>26.365439</td>\n",
       "      <td>94.599518</td>\n",
       "      <td>189.977337</td>\n",
       "      <td>115.864306</td>\n",
       "      <td>50.228045</td>\n",
       "      <td>4.052635</td>\n",
       "      <td>4.636994</td>\n",
       "      <td>91.396601</td>\n",
       "      <td>152.243626</td>\n",
       "    </tr>\n",
       "    <tr>\n",
       "      <th>std</th>\n",
       "      <td>13.362376</td>\n",
       "      <td>0.499243</td>\n",
       "      <td>4.517617</td>\n",
       "      <td>14.118033</td>\n",
       "      <td>34.745332</td>\n",
       "      <td>30.427219</td>\n",
       "      <td>13.185724</td>\n",
       "      <td>1.292732</td>\n",
       "      <td>0.526080</td>\n",
       "      <td>11.340604</td>\n",
       "      <td>78.169016</td>\n",
       "    </tr>\n",
       "    <tr>\n",
       "      <th>min</th>\n",
       "      <td>19.000000</td>\n",
       "      <td>1.000000</td>\n",
       "      <td>18.000000</td>\n",
       "      <td>62.000000</td>\n",
       "      <td>110.000000</td>\n",
       "      <td>41.600000</td>\n",
       "      <td>22.000000</td>\n",
       "      <td>2.000000</td>\n",
       "      <td>3.258100</td>\n",
       "      <td>58.000000</td>\n",
       "      <td>25.000000</td>\n",
       "    </tr>\n",
       "    <tr>\n",
       "      <th>25%</th>\n",
       "      <td>38.000000</td>\n",
       "      <td>1.000000</td>\n",
       "      <td>23.100000</td>\n",
       "      <td>84.000000</td>\n",
       "      <td>165.000000</td>\n",
       "      <td>96.000000</td>\n",
       "      <td>40.000000</td>\n",
       "      <td>3.000000</td>\n",
       "      <td>4.276700</td>\n",
       "      <td>83.000000</td>\n",
       "      <td>85.000000</td>\n",
       "    </tr>\n",
       "    <tr>\n",
       "      <th>50%</th>\n",
       "      <td>50.000000</td>\n",
       "      <td>1.000000</td>\n",
       "      <td>25.700000</td>\n",
       "      <td>93.000000</td>\n",
       "      <td>187.000000</td>\n",
       "      <td>113.400000</td>\n",
       "      <td>49.000000</td>\n",
       "      <td>4.000000</td>\n",
       "      <td>4.595100</td>\n",
       "      <td>91.000000</td>\n",
       "      <td>140.000000</td>\n",
       "    </tr>\n",
       "    <tr>\n",
       "      <th>75%</th>\n",
       "      <td>59.000000</td>\n",
       "      <td>2.000000</td>\n",
       "      <td>29.200000</td>\n",
       "      <td>105.000000</td>\n",
       "      <td>213.000000</td>\n",
       "      <td>135.600000</td>\n",
       "      <td>58.000000</td>\n",
       "      <td>5.000000</td>\n",
       "      <td>4.976700</td>\n",
       "      <td>98.000000</td>\n",
       "      <td>212.000000</td>\n",
       "    </tr>\n",
       "    <tr>\n",
       "      <th>max</th>\n",
       "      <td>79.000000</td>\n",
       "      <td>2.000000</td>\n",
       "      <td>42.200000</td>\n",
       "      <td>133.000000</td>\n",
       "      <td>301.000000</td>\n",
       "      <td>242.400000</td>\n",
       "      <td>99.000000</td>\n",
       "      <td>9.090000</td>\n",
       "      <td>6.107000</td>\n",
       "      <td>124.000000</td>\n",
       "      <td>346.000000</td>\n",
       "    </tr>\n",
       "  </tbody>\n",
       "</table>\n",
       "</div>"
      ],
      "text/plain": [
       "              age         sex         bmi          bp          s1          s2  \\\n",
       "count  353.000000  353.000000  353.000000  353.000000  353.000000  353.000000   \n",
       "mean    48.433428    1.461756   26.365439   94.599518  189.977337  115.864306   \n",
       "std     13.362376    0.499243    4.517617   14.118033   34.745332   30.427219   \n",
       "min     19.000000    1.000000   18.000000   62.000000  110.000000   41.600000   \n",
       "25%     38.000000    1.000000   23.100000   84.000000  165.000000   96.000000   \n",
       "50%     50.000000    1.000000   25.700000   93.000000  187.000000  113.400000   \n",
       "75%     59.000000    2.000000   29.200000  105.000000  213.000000  135.600000   \n",
       "max     79.000000    2.000000   42.200000  133.000000  301.000000  242.400000   \n",
       "\n",
       "               s3          s4          s5          s6      target  \n",
       "count  353.000000  353.000000  353.000000  353.000000  353.000000  \n",
       "mean    50.228045    4.052635    4.636994   91.396601  152.243626  \n",
       "std     13.185724    1.292732    0.526080   11.340604   78.169016  \n",
       "min     22.000000    2.000000    3.258100   58.000000   25.000000  \n",
       "25%     40.000000    3.000000    4.276700   83.000000   85.000000  \n",
       "50%     49.000000    4.000000    4.595100   91.000000  140.000000  \n",
       "75%     58.000000    5.000000    4.976700   98.000000  212.000000  \n",
       "max     99.000000    9.090000    6.107000  124.000000  346.000000  "
      ]
     },
     "metadata": {},
     "output_type": "display_data"
    }
   ],
   "source": [
    "print(\"Statistics for each variable:\")\n",
    "display(train_df.describe())"
   ]
  },
  {
   "cell_type": "code",
   "execution_count": 6,
   "metadata": {
    "ExecuteTime": {
     "end_time": "2025-09-08T17:03:16.609478Z",
     "start_time": "2025-09-08T17:03:16.305562Z"
    }
   },
   "outputs": [
    {
     "data": {
      "image/png": "[encoded data removed]",
      "text/plain": [
       "<Figure size 432x288 with 1 Axes>"
      ]
     },
     "metadata": {
      "needs_background": "light"
     },
     "output_type": "display_data"
    }
   ],
   "source": [
    "sns.scatterplot(data=train_df,x=\"bmi\", y=\"s6\", hue=\"sex\", palette={1: \"blue\", 2: \"red\"})\n",
    "plt.title(\"Glucose Levels vs BMI by Sex\")\n",
    "plt.xlabel(\"BMI\")\n",
    "plt.ylabel(\"Glucose Levels\")\n",
    "plt.legend(title=\"Sex\", labels=[\"Male\", \"Female\"])\n",
    "plt.show()"
   ]
  },
  {
   "cell_type": "code",
   "execution_count": 7,
   "metadata": {
    "ExecuteTime": {
     "end_time": "2025-09-08T17:03:16.821853Z",
     "start_time": "2025-09-08T17:03:16.642998Z"
    }
   },
   "outputs": [
    {
     "data": {
      "image/png": "[encoded data removed]",
      "text/plain": [
       "<Figure size 720x360 with 1 Axes>"
      ]
     },
     "metadata": {
      "needs_background": "light"
     },
     "output_type": "display_data"
    }
   ],
   "source": [
    "plt.figure(figsize=(10,5))\n",
    "sns.boxplot(data=train_df, x=\"sex\", y=\"bmi\", hue=\"sex\", palette={1: \"blue\", 2: \"red\"})\n",
    "plt.title(\"BMI Distribution by Sex\")\n",
    "plt.xlabel(\"Sex\")\n",
    "plt.ylabel(\"BMI\")\n",
    "plt.xticks([0,1], [\"Male\", \"Female\"])\n",
    "plt.show()"
   ]
  },
  {
   "cell_type": "code",
   "execution_count": 8,
   "metadata": {
    "ExecuteTime": {
     "end_time": "2025-09-08T17:03:17.054777Z",
     "start_time": "2025-09-08T17:03:16.855661Z"
    }
   },
   "outputs": [
    {
     "data": {
      "image/png": "[encoded data removed]",
      "text/plain": [
       "<Figure size 432x288 with 1 Axes>"
      ]
     },
     "metadata": {
      "needs_background": "light"
     },
     "output_type": "display_data"
    }
   ],
   "source": [
    "sns.scatterplot(data=train_df, x=\"s3\", y=\"s6\", hue=\"sex\", palette={1: \"blue\", 2: \"red\"})\n",
    "\n",
    "plt.title(\"Glucose Levels vs HDL by Sex\")\n",
    "plt.xlabel(\"HDL (Good Cholesterol)\")\n",
    "plt.ylabel(\"Glucose Levels\")\n",
    "\n",
    "plt.legend(title=\"Sex\", labels=[\"Male\", \"Female\"])\n",
    "plt.show()"
   ]
  },
  {
   "cell_type": "markdown",
   "metadata": {},
   "source": [
    "## Part 3 - Experiments\n",
    "You could add as many code cells as needed"
   ]
  },
  {
   "cell_type": "code",
   "execution_count": 9,
   "metadata": {
    "ExecuteTime": {
     "end_time": "2025-09-08T17:29:10.621197Z",
     "start_time": "2025-09-08T17:29:10.606223Z"
    }
   },
   "outputs": [
    {
     "name": "stdout",
     "output_type": "stream",
     "text": [
      "Selected Features: ['age', 'bmi', 'bp', 's1', 's2', 's3', 's4', 's5', 's6']\n",
      "Selected by SelectKBest: ['bmi', 'bp', 's3', 's4', 's5']\n"
     ]
    }
   ],
   "source": [
    "# Feature engineering - since we got here continuous numerical values and there are some abnormalies, we would use FEATURE SELECTION to choose the features that serve us the best here.\n",
    "\n",
    "y_train = train_df['target'] # Defining y_train\n",
    "\n",
    "corr_matrix = train_df.corr()\n",
    "target_corr = corr_matrix['target'].abs()\n",
    "\n",
    "# Creating set of feature sets: one is choosing features by target correlation 1, second is using KBest with f_regression function\n",
    "selected_features = target_corr[target_corr > 0.1].index.tolist()\n",
    "selected_features.remove('target')\n",
    "print(\"Selected Features:\", selected_features)\n",
    "\n",
    "selector = SelectKBest(score_func=f_regression, k=5)\n",
    "X_new = selector.fit_transform(train_df[selected_features], y_train)\n",
    "\n",
    "mask = selector.get_support()\n",
    "selected_kbest = [f for f, m in zip(selected_features, mask) if m]\n",
    "print(\"Selected by SelectKBest:\", selected_kbest)\n",
    "\n",
    "feature_sets = {\"Corr>0.1\": selected_features, \"SelectKBest\": selected_kbest}"
   ]
  },
  {
   "cell_type": "code",
   "execution_count": 10,
   "metadata": {
    "ExecuteTime": {
     "end_time": "2025-09-08T17:29:16.951743Z",
     "start_time": "2025-09-08T17:29:16.945754Z"
    }
   },
   "outputs": [],
   "source": [
    "# Creating set of scalers\n",
    "scalers = {\"StandardScaler\": StandardScaler(), \"MinMaxScaler\": MinMaxScaler()}"
   ]
  },
  {
   "cell_type": "code",
   "execution_count": 11,
   "metadata": {
    "ExecuteTime": {
     "end_time": "2025-09-08T17:29:19.524456Z",
     "start_time": "2025-09-08T17:29:19.513183Z"
    }
   },
   "outputs": [],
   "source": [
    "# Creating set of models: linear, ridge and lasso regression\n",
    "models = {\"Linear\": {\"model\": LinearRegression(), \"params\":[None]}, \"Ridge\": {\"model\": Ridge(), \"params\":[0.1, 1.0, 10.0]}, \"Lasso\": {\"model\": Lasso(max_iter=10000), \"params\":[0.01, 0.1, 1.0]}}"
   ]
  },
  {
   "cell_type": "code",
   "execution_count": 12,
   "metadata": {
    "ExecuteTime": {
     "end_time": "2025-09-08T17:29:22.375714Z",
     "start_time": "2025-09-08T17:29:22.117034Z"
    }
   },
   "outputs": [
    {
     "name": "stdout",
     "output_type": "stream",
     "text": [
      "       Features          Scaler   Model  Alpha  Avg. R squared\n",
      "23  SelectKBest    MinMaxScaler   Ridge   1.00        0.483034\n",
      "17  SelectKBest  StandardScaler   Ridge  10.00        0.482861\n",
      "22  SelectKBest    MinMaxScaler   Ridge   0.10        0.481944\n",
      "16  SelectKBest  StandardScaler   Ridge   1.00        0.481562\n",
      "19  SelectKBest  StandardScaler   Lasso   0.10        0.481414\n",
      "25  SelectKBest    MinMaxScaler   Lasso   0.01        0.481386\n",
      "15  SelectKBest  StandardScaler   Ridge   0.10        0.481365\n",
      "18  SelectKBest  StandardScaler   Lasso   0.01        0.481351\n",
      "14  SelectKBest  StandardScaler  Linear    NaN        0.481342\n",
      "21  SelectKBest    MinMaxScaler  Linear    NaN        0.481342\n",
      "20  SelectKBest  StandardScaler   Lasso   1.00        0.481236\n",
      "26  SelectKBest    MinMaxScaler   Lasso   0.10        0.481114\n",
      "6      Corr>0.1  StandardScaler   Lasso   1.00        0.478746\n",
      "0      Corr>0.1  StandardScaler  Linear    NaN        0.478481\n",
      "7      Corr>0.1    MinMaxScaler  Linear    NaN        0.478481\n",
      "12     Corr>0.1    MinMaxScaler   Lasso   0.10        0.478466\n",
      "1      Corr>0.1  StandardScaler   Ridge   0.10        0.478435\n",
      "4      Corr>0.1  StandardScaler   Lasso   0.01        0.478368\n",
      "9      Corr>0.1    MinMaxScaler   Ridge   1.00        0.478194\n",
      "2      Corr>0.1  StandardScaler   Ridge   1.00        0.477926\n",
      "11     Corr>0.1    MinMaxScaler   Lasso   0.01        0.477549\n",
      "5      Corr>0.1  StandardScaler   Lasso   0.10        0.477381\n",
      "8      Corr>0.1    MinMaxScaler   Ridge   0.10        0.477239\n",
      "3      Corr>0.1  StandardScaler   Ridge  10.00        0.476826\n",
      "27  SelectKBest    MinMaxScaler   Lasso   1.00        0.473342\n",
      "13     Corr>0.1    MinMaxScaler   Lasso   1.00        0.472286\n",
      "10     Corr>0.1    MinMaxScaler   Ridge  10.00        0.434108\n",
      "24  SelectKBest    MinMaxScaler   Ridge  10.00        0.433231\n"
     ]
    }
   ],
   "source": [
    "#Creating a table of the results we get for each feature selection, each scaling method and each regression model\n",
    "results = []\n",
    "for feat_name, feat_cols in feature_sets.items():\n",
    "    X = train_df[feat_cols]\n",
    "    for scaler_name, scaler in scalers.items():\n",
    "        X_scaled = scaler.fit_transform(X)\n",
    "        for model_name, m in models.items():\n",
    "            for param in m[\"params\"]:\n",
    "                if model_name == \"Linear\":\n",
    "                    model = m[\"model\"]\n",
    "                else:\n",
    "                    model = m[\"model\"].set_params(alpha=param)\n",
    "                scores = cross_val_score(model, X_scaled, y_train, cv=5, scoring=\"r2\")\n",
    "                results.append({\"Features\": feat_name, \"Scaler\": scaler_name, \"Model\": model_name, \"Alpha\": param, \"Avg. R squared\": np.mean(scores)\n",
    "                  })\n",
    "results_df = pd.DataFrame(results)\n",
    "results_df = results_df.sort_values(by=\"Avg. R squared\", ascending=False)\n",
    "print(results_df)\n"
   ]
  },
  {
   "cell_type": "code",
   "execution_count": 13,
   "metadata": {
    "ExecuteTime": {
     "end_time": "2025-09-08T17:31:44.911706Z",
     "start_time": "2025-09-08T17:31:44.904885Z"
    }
   },
   "outputs": [
    {
     "name": "stdout",
     "output_type": "stream",
     "text": [
      "Best Permutation: Features           SelectKBest\n",
      "Scaler            MinMaxScaler\n",
      "Model                    Ridge\n",
      "Alpha                        1\n",
      "Avg. R squared        0.483034\n",
      "Name: 23, dtype: object\n"
     ]
    }
   ],
   "source": [
    "best_results = results_df.iloc[0]\n",
    "print(\"Best Permutation:\", best_results)"
   ]
  },
  {
   "cell_type": "markdown",
   "metadata": {},
   "source": [
    "## Explanation About each Model\n",
    "**Linear Regression**\n",
    "Predicts a continuous target based on the input features. Simple, but very sensitive to overfitting if the features are correlated of dataset is small.\n",
    "\n",
    "**Ridge Regression**\n",
    "A statistical regularization technique. It corrects for overfitting on training data.\n",
    "\n",
    "**Lasso Regression**\n",
    "A regularization technique that applies a penalty to prevent overfitting and enhance the accuracy of statistical models."
   ]
  },
  {
   "cell_type": "markdown",
   "metadata": {},
   "source": [
    "## Part 4 - Training \n",
    "Use the best combination of feature engineering, model (algorithm and hyperparameters) from the experiment part (part 3)"
   ]
  },
  {
   "cell_type": "code",
   "execution_count": 14,
   "metadata": {
    "ExecuteTime": {
     "end_time": "2025-09-08T17:03:17.566276Z",
     "start_time": "2025-09-08T17:03:17.560598Z"
    }
   },
   "outputs": [
    {
     "name": "stdout",
     "output_type": "stream",
     "text": [
      "Data successfully loaded and prepared.\n"
     ]
    },
    {
     "data": {
      "text/plain": [
       "LinearRegression()"
      ]
     },
     "execution_count": 14,
     "metadata": {},
     "output_type": "execute_result"
    }
   ],
   "source": [
    "# --- Data Preparation (from Parts 1-3) ---\n",
    "import pandas as pd\n",
    "from sklearn.linear_model import LinearRegression\n",
    "from sklearn.metrics import mean_squared_error, r2_score\n",
    "import numpy as np\n",
    "\n",
    "# Load the training and testing datasets\n",
    "train_df = pd.read_csv('diabetes_train.csv')\n",
    "test_df = pd.read_csv('diabetes_test.csv')\n",
    "\n",
    "# Define X_train, y_train, X_test, and y_test by splitting the dataframes\n",
    "# This is the step that was missing from the memory\n",
    "X_train = train_df.drop('target', axis=1)\n",
    "y_train = train_df['target']\n",
    "X_test = test_df.drop('target', axis=1)\n",
    "y_test = test_df['target']\n",
    "\n",
    "print(\"Data successfully loaded and prepared.\")\n",
    "\n",
    "\n",
    "# --- Part 4: Train the Model ---\n",
    "# Create an instance of the model\n",
    "model = LinearRegression()\n",
    "\n",
    "# Train the model using the training data\n",
    "model.fit(X_train, y_train)"
   ]
  },
  {
   "cell_type": "markdown",
   "metadata": {},
   "source": [
    "## Part 5 - Apply on test and show model performance estimation"
   ]
  },
  {
   "cell_type": "code",
   "execution_count": 15,
   "metadata": {
    "ExecuteTime": {
     "end_time": "2025-09-08T17:03:17.688963Z",
     "start_time": "2025-09-08T17:03:17.684391Z"
    }
   },
   "outputs": [
    {
     "name": "stdout",
     "output_type": "stream",
     "text": [
      "Mean Squared Error (MSE): 2817.08\n",
      "Root Mean Squared Error (RMSE): 53.08\n",
      "R-squared (R²): 0.47\n"
     ]
    }
   ],
   "source": [
    "y_pred = model.predict(X_test)\n",
    "\n",
    "# Calculate the performance metrics\n",
    "mse = mean_squared_error(y_test, y_pred)\n",
    "rmse = np.sqrt(mse)\n",
    "r2 = r2_score(y_test, y_pred)\n",
    "\n",
    "# Print the final results\n",
    "print(f\"Mean Squared Error (MSE): {mse:.2f}\")\n",
    "print(f\"Root Mean Squared Error (RMSE): {rmse:.2f}\")\n",
    "print(f\"R-squared (R²): {r2:.2f}\")"
   ]
  },
  {
   "cell_type": "code",
   "execution_count": null,
   "metadata": {},
   "outputs": [],
   "source": []
  }
 ],
 "metadata": {
  "kernelspec": {
   "display_name": "Python 3",
   "language": "python",
   "name": "python3"
  },
  "language_info": {
   "codemirror_mode": {
    "name": "ipython",
    "version": 3
   },
   "file_extension": ".py",
   "mimetype": "text/x-python",
   "name": "python",
   "nbconvert_exporter": "python",
   "pygments_lexer": "ipython3",
   "version": "3.8.5"
  },
  "widgets": {
   "application/vnd.jupyter.widget-state+json": {
    "state": {},
    "version_major": 2,
    "version_minor": 0
   }
  }
 },
 "nbformat": 4,
 "nbformat_minor": 5
}
